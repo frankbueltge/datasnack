{
 "cells": [
  {
   "cell_type": "markdown",
   "metadata": {},
   "source": [
    "# 🌡️ Recipe for a Scorched Future\n",
    "Copernicus Climate projections of extreme heat days (tx90pETCCDI)"
   ]
  },
  {
   "cell_type": "code",
   "execution_count": null,
   "metadata": {},
   "outputs": [],
   "source": [
    "import xarray as xr\n",
    "import matplotlib.pyplot as plt\n",
    "import cartopy.crs as ccrs\n",
    "import matplotlib.colors as mcolors"
   ]
  },
  {
   "cell_type": "code",
   "execution_count": null,
   "metadata": {},
   "outputs": [],
   "source": [
    "# Load dataset\n",
    "ds = xr.open_dataset("set.nc")\n",
    "heat = ds["tx90pETCCDI"]\n",
    "\n",
    "# Select data for specific years\n",
    "year_2030 = heat.sel(time="2030", method="nearest")\n",
    "year_2060 = heat.sel(time="2060", method="nearest")"
   ]
  }
 ],
 "metadata": {
  "kernelspec": {
   "display_name": "Python 3",
   "language": "python",
   "name": "python3"
  },
  "language_info": {
   "name": "python",
   "version": ""
  }
 },
 "nbformat": 4,
 "nbformat_minor": 5
}
